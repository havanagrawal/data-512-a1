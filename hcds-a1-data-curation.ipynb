{
 "cells": [
  {
   "cell_type": "code",
   "execution_count": 37,
   "metadata": {
    "ExecuteTime": {
     "end_time": "2018-10-17T06:50:52.065766Z",
     "start_time": "2018-10-17T06:50:51.256734Z"
    }
   },
   "outputs": [],
   "source": [
    "import os\n",
    "import shutil\n",
    "from collections import defaultdict\n",
    "\n",
    "import json\n",
    "import requests\n",
    "\n",
    "import pandas as pd"
   ]
  },
  {
   "cell_type": "markdown",
   "metadata": {},
   "source": [
    "## Step 1 - Data Acquisition"
   ]
  },
  {
   "cell_type": "code",
   "execution_count": 2,
   "metadata": {
    "ExecuteTime": {
     "end_time": "2018-10-17T06:47:20.576491Z",
     "start_time": "2018-10-17T06:47:20.570210Z"
    }
   },
   "outputs": [],
   "source": [
    "ENDPOINT_ROOT = \"https://wikimedia.org/api/rest_v1/metrics/\"\n",
    "ENDPOINT_LEGACY = ENDPOINT_ROOT + 'legacy/pagecounts/aggregate/{project}/{access-site}/{granularity}/{start}/{end}'\n",
    "ENDPOINT_PAGEVIEW = ENDPOINT_ROOT + 'pageviews/aggregate/{project}/{access}/{agent}/{granularity}/{start}/{end}'"
   ]
  },
  {
   "cell_type": "code",
   "execution_count": 3,
   "metadata": {
    "ExecuteTime": {
     "end_time": "2018-10-17T06:47:20.588408Z",
     "start_time": "2018-10-17T06:47:20.580160Z"
    }
   },
   "outputs": [],
   "source": [
    "COMMON_PARAMS = {\n",
    "    \"project\" : \"en.wikipedia.org\",\n",
    "    \"granularity\" : \"monthly\",\n",
    "}\n",
    "\n",
    "OUTPUT_DIR = \"json\"\n",
    "\n",
    "HEADERS = {\n",
    "    'User-Agent': 'https://github.com/havanagrawal',\n",
    "    'From': 'agrawh@uw.edu'\n",
    "}"
   ]
  },
  {
   "cell_type": "code",
   "execution_count": 4,
   "metadata": {
    "ExecuteTime": {
     "end_time": "2018-10-17T06:47:20.606140Z",
     "start_time": "2018-10-17T06:47:20.592102Z"
    }
   },
   "outputs": [],
   "source": [
    "# Delete the directory if it already exists\n",
    "if os.path.exists(OUTPUT_DIR):\n",
    "    shutil.rmtree(OUTPUT_DIR)\n",
    "os.mkdir(OUTPUT_DIR)"
   ]
  },
  {
   "cell_type": "code",
   "execution_count": 5,
   "metadata": {
    "ExecuteTime": {
     "end_time": "2018-10-17T06:47:20.615013Z",
     "start_time": "2018-10-17T06:47:20.608920Z"
    }
   },
   "outputs": [],
   "source": [
    "def api_call(endpoint, parameters):\n",
    "    call = requests.get(endpoint.format(**parameters), headers=HEADERS)\n",
    "    response = call.json()\n",
    "    \n",
    "    return response"
   ]
  },
  {
   "cell_type": "code",
   "execution_count": 6,
   "metadata": {
    "ExecuteTime": {
     "end_time": "2018-10-17T06:47:20.623522Z",
     "start_time": "2018-10-17T06:47:20.618056Z"
    }
   },
   "outputs": [],
   "source": [
    "def get_output_file_path(api_type, accesstype, start, end):\n",
    "    filename = \"{api_type}_{accesstype}_{start}-{end}.json\".format(api_type=api_type, accesstype=accesstype, start=start, end=end)\n",
    "    return os.path.join(OUTPUT_DIR, filename)"
   ]
  },
  {
   "cell_type": "code",
   "execution_count": 7,
   "metadata": {
    "ExecuteTime": {
     "end_time": "2018-10-17T06:47:20.648048Z",
     "start_time": "2018-10-17T06:47:20.626635Z"
    }
   },
   "outputs": [],
   "source": [
    "def write_to_json(data, filename):\n",
    "    data_string = json.dumps(data, indent=2)\n",
    "    with open(filename, \"w\") as f:\n",
    "        f.write(data_string)\n",
    "        \n",
    "def read_from_json(filename):\n",
    "    data = {}\n",
    "    with open(filename, \"r\") as f:\n",
    "        data = json.loads(f.read())\n",
    "    \n",
    "    return data"
   ]
  },
  {
   "cell_type": "markdown",
   "metadata": {},
   "source": [
    "### Getting Legacy PageCounts Data"
   ]
  },
  {
   "cell_type": "code",
   "execution_count": 8,
   "metadata": {
    "ExecuteTime": {
     "end_time": "2018-10-17T06:47:20.660075Z",
     "start_time": "2018-10-17T06:47:20.651530Z"
    }
   },
   "outputs": [],
   "source": [
    "def get_legacy_page_count_data(access_site, start, end):\n",
    "    params = {\n",
    "        \"access-site\" : access_site,\n",
    "        \"start\" : start,\n",
    "        \"end\" : end\n",
    "    }\n",
    "    params.update(COMMON_PARAMS)\n",
    "    data = api_call(ENDPOINT_LEGACY, params)\n",
    "    output_filepath = get_output_file_path(\"pagecounts\", access_site, start, end)\n",
    "    \n",
    "    write_to_json(data, output_filepath)\n",
    "    \n",
    "    return output_filepath"
   ]
  },
  {
   "cell_type": "code",
   "execution_count": 9,
   "metadata": {
    "ExecuteTime": {
     "end_time": "2018-10-17T06:47:21.116517Z",
     "start_time": "2018-10-17T06:47:20.663552Z"
    }
   },
   "outputs": [],
   "source": [
    "start, end = \"2007120100\", \"2016080100\"\n",
    "pagecount_desktop_file = get_legacy_page_count_data('desktop-site', start, end)\n",
    "pagecount_mobile_file = get_legacy_page_count_data('mobile-site', start, end)"
   ]
  },
  {
   "cell_type": "markdown",
   "metadata": {},
   "source": [
    "### Getting PageViews Data"
   ]
  },
  {
   "cell_type": "code",
   "execution_count": 10,
   "metadata": {
    "ExecuteTime": {
     "end_time": "2018-10-17T06:47:21.129697Z",
     "start_time": "2018-10-17T06:47:21.119424Z"
    }
   },
   "outputs": [],
   "source": [
    "def get_page_view_data(access_site, start, end):\n",
    "    params = {\n",
    "        \"access\" : access_site,\n",
    "        \"start\" : start,\n",
    "        \"end\" : end,\n",
    "        \"agent\": \"user\"\n",
    "    }\n",
    "    params.update(COMMON_PARAMS)\n",
    "    data = api_call(ENDPOINT_PAGEVIEW, params)\n",
    "    output_filepath = get_output_file_path(\"pageviews\", access_site, start, end)\n",
    "    \n",
    "    write_to_json(data, output_filepath)\n",
    "    \n",
    "    return output_filepath"
   ]
  },
  {
   "cell_type": "code",
   "execution_count": 11,
   "metadata": {
    "ExecuteTime": {
     "end_time": "2018-10-17T06:47:21.700101Z",
     "start_time": "2018-10-17T06:47:21.131599Z"
    }
   },
   "outputs": [],
   "source": [
    "start, end = \"2015070100\", \"2018100100\"\n",
    "pageview_desktop_file = get_page_view_data(\"desktop\", start, end)\n",
    "pageview_mobile_app_file = get_page_view_data(\"mobile-app\", start, end)\n",
    "pageview_mobile_site_file = get_page_view_data(\"mobile-web\", start, end)"
   ]
  },
  {
   "cell_type": "code",
   "execution_count": 12,
   "metadata": {
    "ExecuteTime": {
     "end_time": "2018-10-17T06:47:21.714631Z",
     "start_time": "2018-10-17T06:47:21.702925Z"
    }
   },
   "outputs": [
    {
     "data": {
      "text/plain": [
       "['pageviews_mobile-app_2015070100-2018100100.json',\n",
       " 'pagecounts_mobile-site_2007120100-2016080100.json',\n",
       " 'pageviews_desktop_2015070100-2018100100.json',\n",
       " 'pagecounts_desktop-site_2007120100-2016080100.json',\n",
       " 'pageviews_mobile-web_2015070100-2018100100.json']"
      ]
     },
     "execution_count": 12,
     "metadata": {},
     "output_type": "execute_result"
    }
   ],
   "source": [
    "# Should have 5 files\n",
    "output_files = os.listdir(OUTPUT_DIR)\n",
    "assert len(output_files) == 5\n",
    "output_files"
   ]
  },
  {
   "cell_type": "markdown",
   "metadata": {},
   "source": [
    "## Step 2 - Data Processing"
   ]
  },
  {
   "cell_type": "markdown",
   "metadata": {},
   "source": [
    "We combine the mobile-site and mobile app data for the page views data"
   ]
  },
  {
   "cell_type": "code",
   "execution_count": 30,
   "metadata": {
    "ExecuteTime": {
     "end_time": "2018-10-17T06:49:52.391093Z",
     "start_time": "2018-10-17T06:49:52.385033Z"
    }
   },
   "outputs": [],
   "source": [
    "def year(ts):\n",
    "    return int(ts[:4])\n",
    "\n",
    "def month(ts):\n",
    "    return int(ts[4:6])\n",
    "\n",
    "def yyyymm(ts):\n",
    "    return str(year(ts)) + str(month(ts)).rjust(2, \"0\")"
   ]
  },
  {
   "cell_type": "code",
   "execution_count": 31,
   "metadata": {
    "ExecuteTime": {
     "end_time": "2018-10-17T06:49:52.638365Z",
     "start_time": "2018-10-17T06:49:52.631115Z"
    }
   },
   "outputs": [],
   "source": [
    "pageviews_mobile_app = read_from_json('json/pageviews_mobile-app_2015070100-2018100100.json')\n",
    "pageviews_mobile_site = read_from_json('json/pageviews_mobile-web_2015070100-2018100100.json')\n",
    "pageviews_desktop_site = read_from_json(\"json/pageviews_desktop_2015070100-2018100100.json\")\n",
    "\n",
    "pagecount_mobile = read_from_json(\"json/pagecounts_mobile-site_2007120100-2016080100.json\")\n",
    "pagecount_desktop_site = read_from_json(\"json/pagecounts_desktop-site_2007120100-2016080100.json\")"
   ]
  },
  {
   "cell_type": "code",
   "execution_count": 32,
   "metadata": {
    "ExecuteTime": {
     "end_time": "2018-10-17T06:49:52.930944Z",
     "start_time": "2018-10-17T06:49:52.926985Z"
    }
   },
   "outputs": [],
   "source": [
    "pageviews_mobile_views = defaultdict(int)\n",
    "pageviews_desktop_views = defaultdict(int)\n",
    "\n",
    "pagecounts_mobile_views = defaultdict(int)\n",
    "pagecounts_desktop_views = defaultdict(int)"
   ]
  },
  {
   "cell_type": "code",
   "execution_count": 33,
   "metadata": {
    "ExecuteTime": {
     "end_time": "2018-10-17T06:49:53.234284Z",
     "start_time": "2018-10-17T06:49:53.225540Z"
    }
   },
   "outputs": [],
   "source": [
    "def fill_dict(src_data, dest_dict):\n",
    "    for item in src_data['items']:\n",
    "        key = yyyymm(item['timestamp'])\n",
    "        if 'views' in item:\n",
    "            dest_dict[key] += item['views']\n",
    "        else:\n",
    "            dest_dict[key] += item['count']"
   ]
  },
  {
   "cell_type": "code",
   "execution_count": 34,
   "metadata": {
    "ExecuteTime": {
     "end_time": "2018-10-17T06:49:53.500833Z",
     "start_time": "2018-10-17T06:49:53.495481Z"
    }
   },
   "outputs": [],
   "source": [
    "# We combine the results from the mobile site and mobile web app for the page view data\n",
    "fill_dict(pageviews_mobile_app, pageviews_mobile_views)\n",
    "fill_dict(pageviews_mobile_site, pageviews_mobile_views)\n",
    "\n",
    "# The others go into independent counting dictionaries\n",
    "fill_dict(pageviews_desktop_site, pageviews_desktop_views)\n",
    "\n",
    "fill_dict(pagecount_desktop_site, pagecounts_desktop_views)\n",
    "fill_dict(pagecount_mobile, pagecounts_mobile_views)"
   ]
  }
 ],
 "metadata": {
  "kernelspec": {
   "display_name": "Python 3",
   "language": "python",
   "name": "python3"
  },
  "language_info": {
   "codemirror_mode": {
    "name": "ipython",
    "version": 3
   },
   "file_extension": ".py",
   "mimetype": "text/x-python",
   "name": "python",
   "nbconvert_exporter": "python",
   "pygments_lexer": "ipython3",
   "version": "3.6.4"
  }
 },
 "nbformat": 4,
 "nbformat_minor": 2
}
