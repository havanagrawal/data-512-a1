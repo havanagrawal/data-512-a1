{
 "cells": [
  {
   "cell_type": "markdown",
   "metadata": {},
   "source": [
    "# A1: Data Curation"
   ]
  },
  {
   "cell_type": "markdown",
   "metadata": {},
   "source": [
    "The purpose of this notebook is to showcase a dataset, whilst adhering to principles of reproducible research. The reference articles used for this purpose are \n",
    "  1. [Assessing Reproducability](https://www.practicereproducibleresearch.org/core-chapters/2-assessment.html)\n",
    "  2. [The Basic Reproducible Workflow Template](https://www.practicereproducibleresearch.org/core-chapters/3-basic.html)\n",
    "  \n",
    "### Table of Contents\n",
    "\n",
    "1. [Step 1: Data Acquisition](#s1)  \n",
    "  a. [Getting Legacy PageCounts Data](#s1_1)  \n",
    "  b. [Getting PageViews Data](#s1_2)\n",
    "2. [Step 2: Data Processing](#s2)\n",
    "3. [Step 3: Analysis](#s3)"
   ]
  },
  {
   "cell_type": "code",
   "execution_count": 1,
   "metadata": {
    "ExecuteTime": {
     "end_time": "2018-10-17T21:40:48.705962Z",
     "start_time": "2018-10-17T21:40:47.771879Z"
    }
   },
   "outputs": [],
   "source": [
    "import os\n",
    "import shutil\n",
    "from collections import defaultdict\n",
    "from functools import reduce\n",
    "\n",
    "import json\n",
    "import requests\n",
    "\n",
    "import pandas as pd\n",
    "\n",
    "%matplotlib inline\n",
    "import matplotlib.pyplot as plt"
   ]
  },
  {
   "cell_type": "markdown",
   "metadata": {},
   "source": [
    "<a id=\"s1\"></a>"
   ]
  },
  {
   "cell_type": "markdown",
   "metadata": {},
   "source": [
    "## Step 1 - Data Acquisition"
   ]
  },
  {
   "cell_type": "markdown",
   "metadata": {},
   "source": [
    "We use two Wikimedia API endpoints:\n",
    "  1. [Legacy Pagecounts API](https://wikitech.wikimedia.org/wiki/Analytics/AQS/Legacy_Pagecounts)\n",
    "  2. [Pageviews API](https://wikitech.wikimedia.org/wiki/Analytics/AQS/Pageviews)"
   ]
  },
  {
   "cell_type": "code",
   "execution_count": 2,
   "metadata": {
    "ExecuteTime": {
     "end_time": "2018-10-17T21:40:48.713280Z",
     "start_time": "2018-10-17T21:40:48.708400Z"
    }
   },
   "outputs": [],
   "source": [
    "ENDPOINT_ROOT = \"https://wikimedia.org/api/rest_v1/metrics/\"\n",
    "ENDPOINT_LEGACY = ENDPOINT_ROOT + 'legacy/pagecounts/aggregate/{project}/{access-site}/{granularity}/{start}/{end}'\n",
    "ENDPOINT_PAGEVIEW = ENDPOINT_ROOT + 'pageviews/aggregate/{project}/{access}/{agent}/{granularity}/{start}/{end}'"
   ]
  },
  {
   "cell_type": "code",
   "execution_count": 3,
   "metadata": {
    "ExecuteTime": {
     "end_time": "2018-10-17T21:40:48.721757Z",
     "start_time": "2018-10-17T21:40:48.716013Z"
    }
   },
   "outputs": [],
   "source": [
    "COMMON_PARAMS = {\n",
    "    \"project\" : \"en.wikipedia.org\",\n",
    "    \"granularity\" : \"monthly\",\n",
    "}\n",
    "\n",
    "OUTPUT_JSON_DIR = \"json\"\n",
    "OUTPUT_CSV_DIR = \"csv\"\n",
    "\n",
    "HEADERS = {\n",
    "    'User-Agent': 'https://github.com/havanagrawal',\n",
    "    'From': 'agrawh@uw.edu'\n",
    "}"
   ]
  },
  {
   "cell_type": "code",
   "execution_count": 4,
   "metadata": {
    "ExecuteTime": {
     "end_time": "2018-10-17T21:40:48.732322Z",
     "start_time": "2018-10-17T21:40:48.724086Z"
    }
   },
   "outputs": [],
   "source": [
    "# Delete the directory if it already exists, and then recreate it\n",
    "if os.path.exists(OUTPUT_JSON_DIR):\n",
    "    shutil.rmtree(OUTPUT_JSON_DIR)\n",
    "    \n",
    "if os.path.exists(OUTPUT_CSV_DIR):\n",
    "    shutil.rmtree(OUTPUT_CSV_DIR)\n",
    "    \n",
    "os.mkdir(OUTPUT_JSON_DIR)\n",
    "os.mkdir(OUTPUT_CSV_DIR)"
   ]
  },
  {
   "cell_type": "code",
   "execution_count": 5,
   "metadata": {
    "ExecuteTime": {
     "end_time": "2018-10-17T21:40:48.741871Z",
     "start_time": "2018-10-17T21:40:48.735435Z"
    }
   },
   "outputs": [],
   "source": [
    "def api_call(endpoint, parameters):\n",
    "    call = requests.get(endpoint.format(**parameters), headers=HEADERS)\n",
    "    response = call.json()\n",
    "    \n",
    "    return response"
   ]
  },
  {
   "cell_type": "code",
   "execution_count": 6,
   "metadata": {
    "ExecuteTime": {
     "end_time": "2018-10-17T21:40:48.749841Z",
     "start_time": "2018-10-17T21:40:48.743726Z"
    }
   },
   "outputs": [],
   "source": [
    "def get_output_file_path(api_type, accesstype, start, end):\n",
    "    filename = \"{api_type}_{accesstype}_{start}-{end}.json\".format(api_type=api_type, accesstype=accesstype, start=start, end=end)\n",
    "    return os.path.join(OUTPUT_JSON_DIR, filename)"
   ]
  },
  {
   "cell_type": "code",
   "execution_count": 7,
   "metadata": {
    "ExecuteTime": {
     "end_time": "2018-10-17T21:40:48.763282Z",
     "start_time": "2018-10-17T21:40:48.753594Z"
    }
   },
   "outputs": [],
   "source": [
    "def write_to_json(data, filename):\n",
    "    data_string = json.dumps(data, indent=2)\n",
    "    with open(filename, \"w\") as f:\n",
    "        f.write(data_string)\n",
    "        \n",
    "def read_from_json(filename):\n",
    "    data = {}\n",
    "    with open(filename, \"r\") as f:\n",
    "        data = json.loads(f.read())\n",
    "    \n",
    "    return data"
   ]
  },
  {
   "cell_type": "markdown",
   "metadata": {},
   "source": [
    "<a id=\"s1_1\"></a>"
   ]
  },
  {
   "cell_type": "markdown",
   "metadata": {},
   "source": [
    "### Getting Legacy PageCounts Data"
   ]
  },
  {
   "cell_type": "code",
   "execution_count": 8,
   "metadata": {
    "ExecuteTime": {
     "end_time": "2018-10-17T21:40:48.819530Z",
     "start_time": "2018-10-17T21:40:48.765431Z"
    }
   },
   "outputs": [],
   "source": [
    "def get_legacy_page_count_data(access_site, start, end):\n",
    "    params = {\n",
    "        \"access-site\" : access_site,\n",
    "        \"start\" : start,\n",
    "        \"end\" : end\n",
    "    }\n",
    "    params.update(COMMON_PARAMS)\n",
    "    data = api_call(ENDPOINT_LEGACY, params)\n",
    "    output_filepath = get_output_file_path(\"pagecounts\", access_site, start, end)\n",
    "    \n",
    "    write_to_json(data, output_filepath)\n",
    "    \n",
    "    return output_filepath"
   ]
  },
  {
   "cell_type": "code",
   "execution_count": 9,
   "metadata": {
    "ExecuteTime": {
     "end_time": "2018-10-17T21:40:49.200438Z",
     "start_time": "2018-10-17T21:40:48.821351Z"
    }
   },
   "outputs": [],
   "source": [
    "start, end = \"2007120100\", \"2016080100\"\n",
    "pagecount_desktop_file = get_legacy_page_count_data('desktop-site', start, end)\n",
    "pagecount_mobile_file = get_legacy_page_count_data('mobile-site', start, end)"
   ]
  },
  {
   "cell_type": "markdown",
   "metadata": {},
   "source": [
    "<a id=\"s1_2\"></a>"
   ]
  },
  {
   "cell_type": "markdown",
   "metadata": {},
   "source": [
    "### Getting PageViews Data"
   ]
  },
  {
   "cell_type": "code",
   "execution_count": 10,
   "metadata": {
    "ExecuteTime": {
     "end_time": "2018-10-17T21:40:49.211951Z",
     "start_time": "2018-10-17T21:40:49.203225Z"
    }
   },
   "outputs": [],
   "source": [
    "def get_page_view_data(access_site, start, end):\n",
    "    params = {\n",
    "        \"access\" : access_site,\n",
    "        \"start\" : start,\n",
    "        \"end\" : end,\n",
    "        \"agent\": \"user\"\n",
    "    }\n",
    "    params.update(COMMON_PARAMS)\n",
    "    data = api_call(ENDPOINT_PAGEVIEW, params)\n",
    "    output_filepath = get_output_file_path(\"pageviews\", access_site, start, end)\n",
    "    \n",
    "    write_to_json(data, output_filepath)\n",
    "    \n",
    "    return output_filepath"
   ]
  },
  {
   "cell_type": "code",
   "execution_count": 11,
   "metadata": {
    "ExecuteTime": {
     "end_time": "2018-10-17T21:40:49.849294Z",
     "start_time": "2018-10-17T21:40:49.214192Z"
    }
   },
   "outputs": [],
   "source": [
    "start, end = \"2015070100\", \"2018100100\"\n",
    "pageview_desktop_file = get_page_view_data(\"desktop\", start, end)\n",
    "pageview_mobile_app_file = get_page_view_data(\"mobile-app\", start, end)\n",
    "pageview_mobile_site_file = get_page_view_data(\"mobile-web\", start, end)"
   ]
  },
  {
   "cell_type": "code",
   "execution_count": 12,
   "metadata": {
    "ExecuteTime": {
     "end_time": "2018-10-17T21:40:49.860219Z",
     "start_time": "2018-10-17T21:40:49.851489Z"
    }
   },
   "outputs": [
    {
     "data": {
      "text/plain": [
       "['pageviews_mobile-app_2015070100-2018100100.json',\n",
       " 'pagecounts_mobile-site_2007120100-2016080100.json',\n",
       " 'pageviews_desktop_2015070100-2018100100.json',\n",
       " 'pagecounts_desktop-site_2007120100-2016080100.json',\n",
       " 'pageviews_mobile-web_2015070100-2018100100.json']"
      ]
     },
     "execution_count": 12,
     "metadata": {},
     "output_type": "execute_result"
    }
   ],
   "source": [
    "# Should have 5 files\n",
    "output_files = os.listdir(OUTPUT_JSON_DIR)\n",
    "assert len(output_files) == 5\n",
    "output_files"
   ]
  },
  {
   "cell_type": "markdown",
   "metadata": {},
   "source": [
    "<a id=\"s2\"></a>"
   ]
  },
  {
   "cell_type": "markdown",
   "metadata": {},
   "source": [
    "## Step 2 - Data Processing"
   ]
  },
  {
   "cell_type": "code",
   "execution_count": 13,
   "metadata": {
    "ExecuteTime": {
     "end_time": "2018-10-17T21:40:49.868602Z",
     "start_time": "2018-10-17T21:40:49.862443Z"
    }
   },
   "outputs": [],
   "source": [
    "def year(ts):\n",
    "    return int(ts[:4])\n",
    "\n",
    "def month(ts):\n",
    "    return int(ts[4:6])\n",
    "\n",
    "def yyyymm(ts):\n",
    "    return str(year(ts)) + str(month(ts)).rjust(2, \"0\")"
   ]
  },
  {
   "cell_type": "markdown",
   "metadata": {},
   "source": [
    "We read the generated JSON files from the previous step"
   ]
  },
  {
   "cell_type": "code",
   "execution_count": 14,
   "metadata": {
    "ExecuteTime": {
     "end_time": "2018-10-17T21:40:49.881304Z",
     "start_time": "2018-10-17T21:40:49.873612Z"
    }
   },
   "outputs": [],
   "source": [
    "pageviews_mobile_app = read_from_json('json/pageviews_mobile-app_2015070100-2018100100.json')\n",
    "pageviews_mobile_site = read_from_json('json/pageviews_mobile-web_2015070100-2018100100.json')\n",
    "pageviews_desktop_site = read_from_json(\"json/pageviews_desktop_2015070100-2018100100.json\")\n",
    "\n",
    "pagecount_mobile = read_from_json(\"json/pagecounts_mobile-site_2007120100-2016080100.json\")\n",
    "pagecount_desktop_site = read_from_json(\"json/pagecounts_desktop-site_2007120100-2016080100.json\")"
   ]
  },
  {
   "cell_type": "code",
   "execution_count": 15,
   "metadata": {
    "ExecuteTime": {
     "end_time": "2018-10-17T21:40:49.888425Z",
     "start_time": "2018-10-17T21:40:49.883724Z"
    }
   },
   "outputs": [],
   "source": [
    "pageviews_mobile_views = defaultdict(int)\n",
    "pageviews_desktop_views = defaultdict(int)\n",
    "\n",
    "pagecounts_mobile_views = defaultdict(int)\n",
    "pagecounts_desktop_views = defaultdict(int)"
   ]
  },
  {
   "cell_type": "code",
   "execution_count": 16,
   "metadata": {
    "ExecuteTime": {
     "end_time": "2018-10-17T21:40:49.899585Z",
     "start_time": "2018-10-17T21:40:49.891298Z"
    }
   },
   "outputs": [],
   "source": [
    "def fill_dict(src_data, dest_dict):\n",
    "    for item in src_data['items']:\n",
    "        key = yyyymm(item['timestamp'])\n",
    "        if 'views' in item:\n",
    "            dest_dict[key] += item['views']\n",
    "        else:\n",
    "            dest_dict[key] += item['count']\n",
    "            \n",
    "def make_df(d, value_key):\n",
    "    return pd.DataFrame({'yyyymm': list(d.keys()), value_key: list(d.values())})"
   ]
  },
  {
   "cell_type": "markdown",
   "metadata": {},
   "source": [
    "Combine the results from the mobile site and mobile web app for the page view data"
   ]
  },
  {
   "cell_type": "code",
   "execution_count": 17,
   "metadata": {
    "ExecuteTime": {
     "end_time": "2018-10-17T21:40:49.904486Z",
     "start_time": "2018-10-17T21:40:49.901520Z"
    }
   },
   "outputs": [],
   "source": [
    "fill_dict(pageviews_mobile_app, pageviews_mobile_views)\n",
    "fill_dict(pageviews_mobile_site, pageviews_mobile_views)"
   ]
  },
  {
   "cell_type": "markdown",
   "metadata": {},
   "source": [
    "The others go into their respective independent counting dictionaries"
   ]
  },
  {
   "cell_type": "code",
   "execution_count": 18,
   "metadata": {
    "ExecuteTime": {
     "end_time": "2018-10-17T21:40:49.916934Z",
     "start_time": "2018-10-17T21:40:49.907374Z"
    }
   },
   "outputs": [],
   "source": [
    "fill_dict(pageviews_desktop_site, pageviews_desktop_views)\n",
    "\n",
    "fill_dict(pagecount_desktop_site, pagecounts_desktop_views)\n",
    "fill_dict(pagecount_mobile, pagecounts_mobile_views)"
   ]
  },
  {
   "cell_type": "markdown",
   "metadata": {},
   "source": [
    "Since the desired output is a CSV file, the most convenient way to do so would be to convert the JSON into DataFrames, process and merge them, and then write the DataFrame into CSV"
   ]
  },
  {
   "cell_type": "code",
   "execution_count": 19,
   "metadata": {
    "ExecuteTime": {
     "end_time": "2018-10-17T21:40:49.935950Z",
     "start_time": "2018-10-17T21:40:49.924182Z"
    }
   },
   "outputs": [],
   "source": [
    "pv_mobile_df = make_df(pageviews_mobile_views, 'pageview_mobile_views')\n",
    "pc_mobile_df = make_df(pagecounts_mobile_views, 'pagecount_mobile_views')\n",
    "\n",
    "pv_desktop_df = make_df(pageviews_desktop_views, 'pageview_desktop_views')\n",
    "pc_desktop_df = make_df(pagecounts_desktop_views, 'pagecount_desktop_views')"
   ]
  },
  {
   "cell_type": "markdown",
   "metadata": {},
   "source": [
    "We apply a `reduce` function that merges all of the data frames into a single one, using the year-month pair as key."
   ]
  },
  {
   "cell_type": "code",
   "execution_count": 20,
   "metadata": {
    "ExecuteTime": {
     "end_time": "2018-10-17T21:40:49.962313Z",
     "start_time": "2018-10-17T21:40:49.941919Z"
    }
   },
   "outputs": [],
   "source": [
    "def merger(d1, d2):\n",
    "    return d1.merge(d2, on='yyyymm', how='outer')\n",
    "\n",
    "df = reduce(merger, [pv_mobile_df, pc_mobile_df, pv_desktop_df, pc_desktop_df])\n",
    "    \n",
    "df.fillna(0, inplace=True)"
   ]
  },
  {
   "cell_type": "markdown",
   "metadata": {},
   "source": [
    "The key to join on is the year and month, i.e. we throw away"
   ]
  },
  {
   "cell_type": "markdown",
   "metadata": {},
   "source": [
    "Add/remove columns as per the required schema"
   ]
  },
  {
   "cell_type": "code",
   "execution_count": 21,
   "metadata": {
    "ExecuteTime": {
     "end_time": "2018-10-17T21:40:50.092698Z",
     "start_time": "2018-10-17T21:40:49.964897Z"
    }
   },
   "outputs": [],
   "source": [
    "df['pagecount_all_views'] = df['pagecount_mobile_views'] + df['pagecount_desktop_views']\n",
    "df['pageview_all_views'] = df['pageview_mobile_views'] + df['pageview_desktop_views']\n",
    "df['year'] = df.yyyymm.apply(str).apply(year)\n",
    "df['month'] = df.yyyymm.apply(str).apply(month)"
   ]
  },
  {
   "cell_type": "code",
   "execution_count": 22,
   "metadata": {
    "ExecuteTime": {
     "end_time": "2018-10-17T21:40:50.102510Z",
     "start_time": "2018-10-17T21:40:50.095215Z"
    }
   },
   "outputs": [
    {
     "data": {
      "text/plain": [
       "('200712', '201809')"
      ]
     },
     "execution_count": 22,
     "metadata": {},
     "output_type": "execute_result"
    }
   ],
   "source": [
    "min_date, max_date = df.yyyymm.min(), df.yyyymm.max()\n",
    "min_date, max_date"
   ]
  },
  {
   "cell_type": "code",
   "execution_count": 23,
   "metadata": {
    "ExecuteTime": {
     "end_time": "2018-10-17T21:40:50.110182Z",
     "start_time": "2018-10-17T21:40:50.104652Z"
    }
   },
   "outputs": [],
   "source": [
    "df.drop('yyyymm', axis=1, inplace=True)"
   ]
  },
  {
   "cell_type": "markdown",
   "metadata": {},
   "source": [
    "And finally write it out into a single CSV file"
   ]
  },
  {
   "cell_type": "code",
   "execution_count": 24,
   "metadata": {
    "ExecuteTime": {
     "end_time": "2018-10-17T21:40:50.130933Z",
     "start_time": "2018-10-17T21:40:50.113299Z"
    }
   },
   "outputs": [],
   "source": [
    "output_csv_filename = \"en-wikipedia_traffic_{from_date}-{to_date}.csv\".format(from_date=min_date, to_date=max_date)\n",
    "output_csv_filepath = os.path.join(OUTPUT_CSV_DIR, output_csv_filename)\n",
    "df.to_csv(output_csv_filepath, index=False)"
   ]
  },
  {
   "cell_type": "markdown",
   "metadata": {},
   "source": [
    "<a id=\"s3\"></a>"
   ]
  },
  {
   "cell_type": "markdown",
   "metadata": {},
   "source": [
    "## Step 3: Analysis"
   ]
  },
  {
   "cell_type": "code",
   "execution_count": 25,
   "metadata": {
    "ExecuteTime": {
     "end_time": "2018-10-17T21:40:50.137987Z",
     "start_time": "2018-10-17T21:40:50.132750Z"
    }
   },
   "outputs": [],
   "source": [
    "df = pd.read_csv(output_csv_filepath)"
   ]
  },
  {
   "cell_type": "markdown",
   "metadata": {},
   "source": [
    "In order to plot time series data, we sort by the year and month"
   ]
  },
  {
   "cell_type": "code",
   "execution_count": 26,
   "metadata": {
    "ExecuteTime": {
     "end_time": "2018-10-17T21:40:50.153750Z",
     "start_time": "2018-10-17T21:40:50.140341Z"
    }
   },
   "outputs": [],
   "source": [
    "df.sort_values(by=['year', 'month'], inplace=True)\n",
    "df[\"yyyymm\"] = df.apply(lambda r: str(int(r.year)) + str(int(r.month)).rjust(2, \"0\"), axis=1)"
   ]
  },
  {
   "cell_type": "code",
   "execution_count": 27,
   "metadata": {
    "ExecuteTime": {
     "end_time": "2018-10-17T21:40:50.169546Z",
     "start_time": "2018-10-17T21:40:50.158345Z"
    }
   },
   "outputs": [],
   "source": [
    "df = df.replace(to_replace=0, value=pd.np.nan)"
   ]
  },
  {
   "cell_type": "code",
   "execution_count": 28,
   "metadata": {
    "ExecuteTime": {
     "end_time": "2018-10-17T21:40:50.190535Z",
     "start_time": "2018-10-17T21:40:50.176797Z"
    }
   },
   "outputs": [],
   "source": [
    "df['date'] = df.apply(lambda r: pd.datetime(r.year, r.month, 1), axis=1)"
   ]
  },
  {
   "cell_type": "code",
   "execution_count": 29,
   "metadata": {
    "ExecuteTime": {
     "end_time": "2018-10-17T21:40:50.197482Z",
     "start_time": "2018-10-17T21:40:50.192876Z"
    }
   },
   "outputs": [
    {
     "data": {
      "text/plain": [
       "Index(['pageview_mobile_views', 'pagecount_mobile_views',\n",
       "       'pageview_desktop_views', 'pagecount_desktop_views',\n",
       "       'pagecount_all_views', 'pageview_all_views', 'year', 'month', 'yyyymm',\n",
       "       'date'],\n",
       "      dtype='object')"
      ]
     },
     "execution_count": 29,
     "metadata": {},
     "output_type": "execute_result"
    }
   ],
   "source": [
    "df.columns"
   ]
  },
  {
   "cell_type": "code",
   "execution_count": 30,
   "metadata": {
    "ExecuteTime": {
     "end_time": "2018-10-17T21:40:50.204868Z",
     "start_time": "2018-10-17T21:40:50.199134Z"
    }
   },
   "outputs": [],
   "source": [
    "ymax = df[[f for f in df.columns if \"views\" in f]].max().max()"
   ]
  },
  {
   "cell_type": "code",
   "execution_count": 31,
   "metadata": {
    "ExecuteTime": {
     "end_time": "2018-10-17T21:40:50.579398Z",
     "start_time": "2018-10-17T21:40:50.207942Z"
    }
   },
   "outputs": [
    {
     "data": {
      "image/png": "[encoded data removed]",
      "text/plain": [
       "<matplotlib.figure.Figure at 0x119c63ac8>"
      ]
     },
     "metadata": {},
     "output_type": "display_data"
    }
   ],
   "source": [
    "plt.figure(figsize=(18, 8))\n",
    "\n",
    "plt.plot(df.date, df.pageview_all_views)\n",
    "plt.plot(df.date, df.pageview_mobile_views)\n",
    "plt.plot(df.date, df.pageview_desktop_views)\n",
    "\n",
    "plt.plot(df.date, df.pagecount_all_views)\n",
    "plt.plot(df.date, df.pagecount_mobile_views)\n",
    "plt.plot(df.date, df.pagecount_desktop_views)\n",
    "\n",
    "ymin, ymax = plt.ylim()\n",
    "\n",
    "plt.legend([\"PageView All\", \"PageView Mobile\", \"PageView Desktop\", \"PageCount All\", \"PageCount Mobile\", \"PageCount Desktop\"])\n",
    "\n",
    "plt.vlines([df[df.pagecount_all_views.isna()].date.min()], ymin=ymin, ymax=ymax, linestyles='dotted')\n",
    "plt.vlines([df[df.pageview_all_views.isna()].date.max()], ymin=ymin, ymax=ymax, linestyles='dotted')\n",
    "\n",
    "plt.xlabel(\"Year\")\n",
    "plt.ylabel(\"View Count\")\n",
    "\n",
    "plt.title(\"Wikimedia View Counts from 2007 to 2018\")\n",
    "plt.grid()"
   ]
  },
  {
   "cell_type": "markdown",
   "metadata": {},
   "source": [
    "The dotted lines enclose the region of overlap"
   ]
  }
 ],
 "metadata": {
  "kernelspec": {
   "display_name": "Python 3",
   "language": "python",
   "name": "python3"
  },
  "language_info": {
   "codemirror_mode": {
    "name": "ipython",
    "version": 3
   },
   "file_extension": ".py",
   "mimetype": "text/x-python",
   "name": "python",
   "nbconvert_exporter": "python",
   "pygments_lexer": "ipython3",
   "version": "3.6.4"
  }
 },
 "nbformat": 4,
 "nbformat_minor": 2
}
